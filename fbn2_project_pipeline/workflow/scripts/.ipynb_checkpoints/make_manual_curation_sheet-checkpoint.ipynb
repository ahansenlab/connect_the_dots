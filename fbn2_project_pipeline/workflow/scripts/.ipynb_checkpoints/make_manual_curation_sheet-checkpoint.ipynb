{
 "cells": [
  {
   "cell_type": "code",
   "execution_count": 31,
   "metadata": {},
   "outputs": [],
   "source": [
    "import pandas as pd\n",
    "import os\n",
    "from connect_the_dots.io import search_for\n",
    "import numpy as np"
   ]
  },
  {
   "cell_type": "code",
   "execution_count": 155,
   "metadata": {},
   "outputs": [
    {
     "data": {
      "text/plain": [
       "(30, 22)"
      ]
     },
     "execution_count": 155,
     "metadata": {},
     "output_type": "execute_result"
    }
   ],
   "source": [
    "folder = '../results/Rad21'\n",
    "name_includes = ['rad21','.tracks.csv','4h']\n",
    "name_excludes = []\n",
    "names, paths = search_for(folder,name_includes,name_excludes)\n",
    "\n",
    "name2_includes = ['rad21','.tracks.csv','four']\n",
    "name2_excludes = []\n",
    "names2, paths2 = search_for(folder,name2_includes,name2_excludes)\n",
    "\n",
    "len(names), len(names2)\n",
    "\n",
    "names = names + names2\n",
    "paths = paths + paths2\n",
    "len(names), len(names2)"
   ]
  },
  {
   "cell_type": "code",
   "execution_count": 159,
   "metadata": {},
   "outputs": [
    {
     "data": {
      "text/plain": [
       "42"
      ]
     },
     "execution_count": 159,
     "metadata": {},
     "output_type": "execute_result"
    }
   ],
   "source": [
    "folder = '../results/Rad21'\n",
    "name_includes = ['rad21','.tracks.csv','noIAA']\n",
    "name_excludes = []\n",
    "names, paths = search_for(folder,name_includes,name_excludes)\n",
    "len(names)"
   ]
  },
  {
   "cell_type": "code",
   "execution_count": 129,
   "metadata": {},
   "outputs": [
    {
     "data": {
      "text/plain": [
       "29"
      ]
     },
     "execution_count": 129,
     "metadata": {},
     "output_type": "execute_result"
    }
   ],
   "source": [
    "folder = '../results/C27'\n",
    "name_includes = ['c27','.tracks.csv']\n",
    "name_excludes = []\n",
    "names, paths = search_for(folder,name_includes,name_excludes)\n",
    "len(names)"
   ]
  },
  {
   "cell_type": "code",
   "execution_count": 149,
   "metadata": {},
   "outputs": [
    {
     "data": {
      "text/plain": [
       "15"
      ]
     },
     "execution_count": 149,
     "metadata": {},
     "output_type": "execute_result"
    }
   ],
   "source": [
    "folder = '../results/CTCF'\n",
    "name_includes = ['CTCF','.tracks.csv','noI']\n",
    "name_excludes = []\n",
    "names, paths = search_for(folder,name_includes,name_excludes)\n",
    "len(names)"
   ]
  },
  {
   "cell_type": "code",
   "execution_count": null,
   "metadata": {},
   "outputs": [],
   "source": [
    "folder = '../results/C27'\n",
    "name_includes = ['.tracks.csv']\n",
    "name_excludes = []\n",
    "names, paths = search_for(folder,name_includes,name_excludes)\n",
    "len(names)"
   ]
  },
  {
   "cell_type": "code",
   "execution_count": 161,
   "metadata": {
    "scrolled": true
   },
   "outputs": [],
   "source": [
    "st = []\n",
    "nd = []\n",
    "part = []\n",
    "filename = []\n",
    "index = []\n",
    "count = 0\n",
    "for f, fpath in zip(names,paths):\n",
    "    \n",
    "    fpath = folder#'../results/C36'\n",
    "    \n",
    "    df = pd.read_csv(os.path.join(fpath,f))\n",
    "    particles = df.particle.unique()\n",
    "    for p in particles:\n",
    "        T0 = df[(df.particle==p) & (df.channel==0)].frame.values\n",
    "        T1 = df[(df.particle==p) & (df.channel==1)].frame.values\n",
    "\n",
    "        if len(T0) == 0:\n",
    "            continue        \n",
    "        if len(T1) == 0:\n",
    "            continue\n",
    "\n",
    "        TC, comm1,comm0 = np.intersect1d(T1,T0,return_indices=True)\n",
    "\n",
    "        if len(TC) == 0:\n",
    "            continue\n",
    "\n",
    "        tmin = np.min(T0[comm0])\n",
    "        tmax = np.max(T0[comm0])\n",
    "        assert tmin == np.min(T1[comm1])\n",
    "        assert tmax == np.max(T1[comm1])\n",
    "        \n",
    "        st.append(tmin)\n",
    "        nd.append(tmax)  \n",
    "        part.append(p)\n",
    "        filename.append(f)\n",
    "        index.append(count)\n",
    "    count+=1"
   ]
  },
  {
   "cell_type": "code",
   "execution_count": 162,
   "metadata": {},
   "outputs": [
    {
     "data": {
      "text/plain": [
       "840"
      ]
     },
     "execution_count": 162,
     "metadata": {},
     "output_type": "execute_result"
    }
   ],
   "source": [
    "len(st), len(nd), len(part), len(filename)\n",
    "save_df = pd.DataFrame({'Index':index,'Filename':filename,'Particle':part,'Start':st,'End':nd})\n",
    "# save_df.to_csv('../results/C36_curation_spreadsheet.csv')\n",
    "# save_df.to_csv('../results/Rad21_curation_spreadsheet.csv')\n",
    "# save_df.to_csv('../results/Rad21_4hr_curation_spreadsheet.csv')\n",
    "save_df.to_csv('../results/Rad21_noIAA_curation_spreadsheet.csv')\n",
    "# save_df.to_csv('../results/C27_curation_spreadsheet.csv')\n",
    "# save_df.to_csv('../results/CTCF_curation_spreadsheet.csv')\n",
    "# save_df.to_csv('../results/CTCF_2hr_curation_spreadsheet.csv')\n",
    "# save_df.to_csv('../results/CTCF_noIAA_curation_spreadsheet.csv')\n",
    "len(save_df)"
   ]
  },
  {
   "cell_type": "code",
   "execution_count": 128,
   "metadata": {},
   "outputs": [
    {
     "data": {
      "text/plain": [
       "(145.325, 116.0)"
      ]
     },
     "execution_count": 128,
     "metadata": {},
     "output_type": "execute_result"
    }
   ],
   "source": [
    "np.mean(np.array(nd)-np.array(st)), np.median(np.array(nd)-np.array(st))"
   ]
  },
  {
   "cell_type": "code",
   "execution_count": 112,
   "metadata": {},
   "outputs": [
    {
     "data": {
      "text/plain": [
       "[<matplotlib.lines.Line2D at 0x7fd37f863510>]"
      ]
     },
     "execution_count": 112,
     "metadata": {},
     "output_type": "execute_result"
    },
    {
     "data": {
      "image/png": "[encoded data removed]",
      "text/plain": [
       "<Figure size 432x288 with 1 Axes>"
      ]
     },
     "metadata": {
      "needs_background": "light"
     },
     "output_type": "display_data"
    }
   ],
   "source": [
    "import matplotlib.pyplot as plt\n",
    "freq, bins = np.histogram(np.array(nd)-np.array(st))\n",
    "plt.plot(bins[1:],freq,'.')"
   ]
  },
  {
   "cell_type": "code",
   "execution_count": 102,
   "metadata": {},
   "outputs": [
    {
     "data": {
      "text/plain": [
       "[<matplotlib.lines.Line2D at 0x7fd37f65bd50>]"
      ]
     },
     "execution_count": 102,
     "metadata": {},
     "output_type": "execute_result"
    },
    {
     "data": {
      "image/png": "[encoded data removed]",
      "text/plain": [
       "<Figure size 432x288 with 1 Axes>"
      ]
     },
     "metadata": {
      "needs_background": "light"
     },
     "output_type": "display_data"
    }
   ],
   "source": []
  },
  {
   "cell_type": "code",
   "execution_count": 62,
   "metadata": {},
   "outputs": [
    {
     "data": {
      "text/plain": [
       "225.0"
      ]
     },
     "execution_count": 62,
     "metadata": {},
     "output_type": "execute_result"
    }
   ],
   "source": [
    "np.percentile(np.array(nd)-np.array(st),80)"
   ]
  },
  {
   "cell_type": "code",
   "execution_count": 30,
   "metadata": {},
   "outputs": [
    {
     "data": {
      "text/plain": [
       "array([0, 0, 0, 0, 0, 0, 0, 0, 0, 0, 0, 0, 0, 0, 0, 0, 0, 0, 0, 0, 0, 0,\n",
       "       0, 0, 0, 0, 0, 0, 0, 0, 0, 0, 0, 0, 0, 0, 0, 0, 0, 0, 0, 0, 0, 0,\n",
       "       0, 0, 0, 0, 0, 0, 0, 0, 0, 0, 0, 0, 0, 0, 0, 0, 0, 0, 0, 0, 0, 0,\n",
       "       0, 0, 0, 0, 0, 0, 0, 0, 0, 0, 0, 0, 0, 0, 0, 0, 0, 0, 0, 0, 0, 0,\n",
       "       0, 0, 0, 0, 0, 0, 0, 0, 0, 0, 0, 0, 0, 0, 0, 0, 0, 0, 0, 0, 0, 0,\n",
       "       0, 0, 0, 0, 0, 0, 0, 0, 0, 0, 0, 0, 0, 0, 0, 0, 0, 0, 0, 0, 0, 0,\n",
       "       0, 0, 0, 0, 0, 0, 0, 0, 0, 0, 0, 0, 0, 0, 0, 0, 0, 0, 0, 0, 0, 0,\n",
       "       0, 0, 0, 0, 0, 0, 0, 0, 0, 0, 0, 0, 0, 0, 0, 0, 0, 0, 0, 0, 0, 0,\n",
       "       0, 0, 0, 0, 0, 0, 0, 0, 0, 0, 0, 0, 0, 0, 0, 0, 0, 0, 0, 0, 0, 0,\n",
       "       0, 0, 0, 0, 0, 0, 0, 0, 0, 0, 0, 0, 0, 0, 0, 0, 0, 0, 0, 0, 0, 0,\n",
       "       0, 0, 0, 0, 0, 0, 0, 0, 0, 0, 0, 0, 0, 0, 0, 0, 0, 0, 0, 0, 0, 0,\n",
       "       0, 0, 0, 0, 0, 0, 0, 0, 0, 0, 0, 0, 0, 0, 0, 0, 0, 0, 0, 0, 0, 0,\n",
       "       0, 0, 0, 0, 0, 0, 0, 0, 0, 0, 0, 0, 0, 0, 0, 0, 0, 0, 0, 0, 0, 0,\n",
       "       0, 0, 0, 0, 0, 0, 0, 0, 0, 0, 0, 0, 0, 0, 0, 0, 0, 0, 0, 0, 0, 0,\n",
       "       0, 0, 0, 0, 0, 0, 0, 0, 0, 0, 0, 0, 0, 0, 0, 0, 0, 0, 0, 0, 0, 0,\n",
       "       0, 0, 0, 0, 0, 0, 0, 0, 0, 0, 0, 0, 0, 0, 0, 0, 0, 0, 0, 0, 0, 0,\n",
       "       0, 0, 0, 0, 0, 0, 0, 0, 0, 0, 0, 0, 0])"
      ]
     },
     "execution_count": 30,
     "metadata": {},
     "output_type": "execute_result"
    }
   ],
   "source": [
    "df[df.particle==0].channel.values"
   ]
  },
  {
   "cell_type": "code",
   "execution_count": 22,
   "metadata": {},
   "outputs": [],
   "source": [
    "\n",
    "\n",
    "particles = df.particle.unique()\n",
    "for p in particles:\n",
    "    T0 = df[(df.particle==p) & (df.channel==0)].frame.values\n",
    "    T1 = df[(df.particle==p) & (df.channel==1)].frame.values\n",
    "    \n",
    "    if len(T0) == 0:\n",
    "        continue        \n",
    "    if len(T1) == 0:\n",
    "        continue\n",
    "    \n",
    "    TC, comm1,comm0 = np.intersect1d(T1,T0,return_indices=True)\n",
    "    \n",
    "    if len(TC) == 0:\n",
    "        continue\n",
    "    \n",
    "    tmin = np.min(T0[comm0])\n",
    "    tmax = np.max(T0[comm0])\n",
    "    \n",
    "    st.append(tmin)\n",
    "    nd.append(tmax)\n",
    "#     st.append(np.min(df[df.particle==p].frame.values))"
   ]
  },
  {
   "cell_type": "code",
   "execution_count": 25,
   "metadata": {},
   "outputs": [
    {
     "data": {
      "text/plain": [
       "array([346, 347, 350, 351, 352, 353, 354, 355, 356, 357, 358, 359, 360,\n",
       "       361, 362, 363])"
      ]
     },
     "execution_count": 25,
     "metadata": {},
     "output_type": "execute_result"
    }
   ],
   "source": [
    "T1"
   ]
  },
  {
   "cell_type": "code",
   "execution_count": null,
   "metadata": {},
   "outputs": [],
   "source": []
  },
  {
   "cell_type": "markdown",
   "metadata": {
    "scrolled": true
   },
   "source": [
    "## Import and make summary sheets"
   ]
  },
  {
   "cell_type": "code",
   "execution_count": 42,
   "metadata": {},
   "outputs": [
    {
     "data": {
      "text/plain": [
       "29"
      ]
     },
     "execution_count": 42,
     "metadata": {},
     "output_type": "execute_result"
    }
   ],
   "source": [
    "import os\n",
    "# traj_files = [os.path.join('../results/Rad21_2_hr/',f) for f in os.listdir('../results/Rad21_2_hr/') if 'ML' in f]\n",
    "# traj_files = [os.path.join('../results/C27/',f) for f in os.listdir('../results/C27/') if 'ML' in f]\n",
    "# len(traj_files)\n",
    "\n",
    "# os.listdir('../results/')\n",
    "folder = '../results/WAPL_4_hr'\n",
    "traj_files = [os.path.join(folder,f) for f in os.listdir(folder) if 'ML' in f]\n",
    "len(set(traj_files))"
   ]
  },
  {
   "cell_type": "code",
   "execution_count": 43,
   "metadata": {},
   "outputs": [],
   "source": [
    "\n",
    "import pandas as pd\n",
    "        \n",
    "# identify sample group\n",
    "# group = 'Rad21_2_hr'\n",
    "group = 'Wapl_4_hr'\n",
    "\n",
    "# identify the subset of files pertaining to this group\n",
    "files = traj_files#[f for f in traj_files if f\"../results/{group}/\" in f]\n",
    "\n",
    "# make summary spreadsheet\n",
    "idx_list = []\n",
    "f_list = []\n",
    "p_list = []\n",
    "minframe_list = []\n",
    "maxframe_list = []\n",
    "g_count = []\n",
    "b_count = []\n",
    "n_count = []\n",
    "u_count = []\n",
    "bad_list = []\n",
    "\n",
    "gr_count = []\n",
    "gu_count = []\n",
    "br_count = []\n",
    "bu_count = []\n",
    "\n",
    "for fi, file in enumerate(sorted(files)):\n",
    "    \n",
    "    traj_dict = pd.read_csv(file)\n",
    "    short_name = (file.split('/')[-1]).split('.track')[0]\n",
    "    \n",
    "    particles = traj_dict.particle.unique()\n",
    "    for p in sorted(particles):\n",
    "\n",
    "        min_frame = traj_dict[(traj_dict.particle==p)].frame.min()\n",
    "        max_frame = traj_dict[(traj_dict.particle==p)].frame.max()\n",
    "\n",
    "        bad_frames = traj_dict[(traj_dict.particle==p) & (traj_dict['ML_class']=='Bad') ].frame.unique()\n",
    "        good_frames =  traj_dict[(traj_dict.particle==p) & (traj_dict['ML_class']=='Good') ].frame.unique()\n",
    "        nodot_frames =  traj_dict[(traj_dict.particle==p) & (traj_dict['ML_class']=='NoDot') ].frame.unique()\n",
    "        nocat_frames =  traj_dict[(traj_dict.particle==p) & (traj_dict['ML_class']=='Unclassified') ].frame.unique()\n",
    "\n",
    "        good_rep_frames = traj_dict[(traj_dict.particle==p) & (traj_dict['ML_class']=='Good') & \n",
    "                                    (traj_dict['ML_isReplicated']=='Replicated') ].frame.unique()\n",
    "        good_unrep_frames = traj_dict[(traj_dict.particle==p) & (traj_dict['ML_class']=='Good') & \n",
    "                                    (traj_dict['ML_isReplicated']=='Unreplicated') ].frame.unique()        \n",
    "        bad_rep_frames = traj_dict[(traj_dict.particle==p) & (traj_dict['ML_class']=='Bad') & \n",
    "                                    (traj_dict['ML_isReplicated']=='Replicated') ].frame.unique()        \n",
    "        bad_unrep_frames = traj_dict[(traj_dict.particle==p) & (traj_dict['ML_class']=='Bad') & \n",
    "                                    (traj_dict['ML_isReplicated']=='Unreplicated') ].frame.unique()        \n",
    "\n",
    "\n",
    "        idx_list.append(fi)\n",
    "        f_list.append(short_name)\n",
    "        p_list.append(p)        \n",
    "        minframe_list.append(min_frame)\n",
    "        maxframe_list.append(max_frame)\n",
    "        g_count.append(len(good_frames) )\n",
    "        b_count.append(len(bad_frames))\n",
    "        n_count.append(len(nodot_frames))\n",
    "        u_count.append(len(nocat_frames))\n",
    "        bad_list.append(sorted(bad_frames))\n",
    "        gr_count.append(len(good_rep_frames))\n",
    "        gu_count.append(len(good_unrep_frames))\n",
    "        br_count.append(len(bad_rep_frames))\n",
    "        bu_count.append(len(bad_unrep_frames))\n",
    "\n",
    "\n",
    "summary_df = pd.DataFrame({'idx':idx_list,'Filename':f_list,\n",
    "             'Particle':p_list,\n",
    "              'Start':minframe_list,\n",
    "              'End':maxframe_list,              \n",
    "             'NumGood':g_count,\n",
    "             'NumBad':b_count,\n",
    "             'NumNone':n_count,\n",
    "             'NumUncategorized':u_count,\n",
    "             'NumGoodUnreplicated':gu_count,\n",
    "             'NumBadReplicated':br_count,\n",
    "             'NumGoodReplicated':gr_count,\n",
    "             'NumBadUnreplicated':bu_count,\n",
    "             'Bad_list':bad_list})\n",
    "\n",
    "summary_df['ML_replicated']  = (summary_df.NumBadReplicated/\n",
    "                               (summary_df.NumBadReplicated+summary_df.NumGoodUnreplicated)>0.33)\n",
    "# summary_df.to_csv(snakemake.output.summary_sheets,index=False)\n",
    "\n"
   ]
  },
  {
   "cell_type": "code",
   "execution_count": 21,
   "metadata": {},
   "outputs": [],
   "source": [
    "#  summary_df.to_csv('Rad_21_2hr_summary.csv',index=False)\n",
    "#  summary_df.to_csv('Rad_21_2hr_summary.csv',index=False)"
   ]
  },
  {
   "cell_type": "code",
   "execution_count": 46,
   "metadata": {
    "scrolled": true
   },
   "outputs": [
    {
     "data": {
      "text/html": [
       "<div>\n",
       "<style scoped>\n",
       "    .dataframe tbody tr th:only-of-type {\n",
       "        vertical-align: middle;\n",
       "    }\n",
       "\n",
       "    .dataframe tbody tr th {\n",
       "        vertical-align: top;\n",
       "    }\n",
       "\n",
       "    .dataframe thead th {\n",
       "        text-align: right;\n",
       "    }\n",
       "</style>\n",
       "<table border=\"1\" class=\"dataframe\">\n",
       "  <thead>\n",
       "    <tr style=\"text-align: right;\">\n",
       "      <th></th>\n",
       "      <th>idx</th>\n",
       "      <th>Filename</th>\n",
       "      <th>Particle</th>\n",
       "      <th>Start</th>\n",
       "      <th>End</th>\n",
       "      <th>NumGood</th>\n",
       "      <th>NumBad</th>\n",
       "      <th>NumNone</th>\n",
       "      <th>NumUncategorized</th>\n",
       "      <th>NumGoodUnreplicated</th>\n",
       "      <th>NumBadReplicated</th>\n",
       "      <th>NumGoodReplicated</th>\n",
       "      <th>NumBadUnreplicated</th>\n",
       "      <th>Bad_list</th>\n",
       "      <th>ML_replicated</th>\n",
       "    </tr>\n",
       "  </thead>\n",
       "  <tbody>\n",
       "    <tr>\n",
       "      <th>0</th>\n",
       "      <td>0</td>\n",
       "      <td>2020_11_22_2020_11_22_WAPL_fourhoursIAA_488nm_...</td>\n",
       "      <td>2</td>\n",
       "      <td>0</td>\n",
       "      <td>143</td>\n",
       "      <td>22</td>\n",
       "      <td>73</td>\n",
       "      <td>48</td>\n",
       "      <td>0</td>\n",
       "      <td>21</td>\n",
       "      <td>24</td>\n",
       "      <td>1</td>\n",
       "      <td>49</td>\n",
       "      <td>[0, 1, 2, 3, 4, 5, 10, 11, 12, 13, 14, 15, 18,...</td>\n",
       "      <td>True</td>\n",
       "    </tr>\n",
       "    <tr>\n",
       "      <th>1</th>\n",
       "      <td>0</td>\n",
       "      <td>2020_11_22_2020_11_22_WAPL_fourhoursIAA_488nm_...</td>\n",
       "      <td>3</td>\n",
       "      <td>0</td>\n",
       "      <td>225</td>\n",
       "      <td>70</td>\n",
       "      <td>86</td>\n",
       "      <td>66</td>\n",
       "      <td>0</td>\n",
       "      <td>46</td>\n",
       "      <td>45</td>\n",
       "      <td>24</td>\n",
       "      <td>41</td>\n",
       "      <td>[6, 7, 9, 13, 14, 15, 17, 19, 21, 23, 27, 38, ...</td>\n",
       "      <td>True</td>\n",
       "    </tr>\n",
       "    <tr>\n",
       "      <th>2</th>\n",
       "      <td>0</td>\n",
       "      <td>2020_11_22_2020_11_22_WAPL_fourhoursIAA_488nm_...</td>\n",
       "      <td>4</td>\n",
       "      <td>0</td>\n",
       "      <td>101</td>\n",
       "      <td>23</td>\n",
       "      <td>60</td>\n",
       "      <td>19</td>\n",
       "      <td>0</td>\n",
       "      <td>21</td>\n",
       "      <td>21</td>\n",
       "      <td>2</td>\n",
       "      <td>39</td>\n",
       "      <td>[0, 1, 3, 5, 6, 8, 9, 10, 11, 12, 13, 14, 16, ...</td>\n",
       "      <td>True</td>\n",
       "    </tr>\n",
       "  </tbody>\n",
       "</table>\n",
       "</div>"
      ],
      "text/plain": [
       "   idx                                           Filename  Particle  Start  \\\n",
       "0    0  2020_11_22_2020_11_22_WAPL_fourhoursIAA_488nm_...         2      0   \n",
       "1    0  2020_11_22_2020_11_22_WAPL_fourhoursIAA_488nm_...         3      0   \n",
       "2    0  2020_11_22_2020_11_22_WAPL_fourhoursIAA_488nm_...         4      0   \n",
       "\n",
       "   End  NumGood  NumBad  NumNone  NumUncategorized  NumGoodUnreplicated  \\\n",
       "0  143       22      73       48                 0                   21   \n",
       "1  225       70      86       66                 0                   46   \n",
       "2  101       23      60       19                 0                   21   \n",
       "\n",
       "   NumBadReplicated  NumGoodReplicated  NumBadUnreplicated  \\\n",
       "0                24                  1                  49   \n",
       "1                45                 24                  41   \n",
       "2                21                  2                  39   \n",
       "\n",
       "                                            Bad_list  ML_replicated  \n",
       "0  [0, 1, 2, 3, 4, 5, 10, 11, 12, 13, 14, 15, 18,...           True  \n",
       "1  [6, 7, 9, 13, 14, 15, 17, 19, 21, 23, 27, 38, ...           True  \n",
       "2  [0, 1, 3, 5, 6, 8, 9, 10, 11, 12, 13, 14, 16, ...           True  "
      ]
     },
     "execution_count": 46,
     "metadata": {},
     "output_type": "execute_result"
    }
   ],
   "source": [
    "summary_df.head(3)"
   ]
  },
  {
   "cell_type": "code",
   "execution_count": 47,
   "metadata": {},
   "outputs": [
    {
     "ename": "AttributeError",
     "evalue": "'DataFrame' object has no attribute 'filename'",
     "output_type": "error",
     "traceback": [
      "\u001b[0;31m---------------------------------------------------------------------------\u001b[0m",
      "\u001b[0;31mAttributeError\u001b[0m                            Traceback (most recent call last)",
      "\u001b[0;32m<ipython-input-47-c83383fcb7ea>\u001b[0m in \u001b[0;36m<module>\u001b[0;34m\u001b[0m\n\u001b[0;32m----> 1\u001b[0;31m \u001b[0mfiles\u001b[0m \u001b[0;34m=\u001b[0m \u001b[0msorted\u001b[0m\u001b[0;34m(\u001b[0m\u001b[0mtraj_dict\u001b[0m\u001b[0;34m.\u001b[0m\u001b[0mfilename\u001b[0m\u001b[0;34m.\u001b[0m\u001b[0munique\u001b[0m\u001b[0;34m(\u001b[0m\u001b[0;34m)\u001b[0m\u001b[0;34m)\u001b[0m\u001b[0;34m\u001b[0m\u001b[0;34m\u001b[0m\u001b[0m\n\u001b[0m\u001b[1;32m      2\u001b[0m \u001b[0mfile_index\u001b[0m \u001b[0;34m=\u001b[0m \u001b[0;34m[\u001b[0m\u001b[0;34m[\u001b[0m\u001b[0mfi\u001b[0m \u001b[0;32mfor\u001b[0m \u001b[0mfi\u001b[0m\u001b[0;34m,\u001b[0m \u001b[0mff\u001b[0m \u001b[0;32min\u001b[0m \u001b[0menumerate\u001b[0m\u001b[0;34m(\u001b[0m\u001b[0mfiles\u001b[0m\u001b[0;34m)\u001b[0m \u001b[0;32mif\u001b[0m \u001b[0mff\u001b[0m\u001b[0;34m==\u001b[0m\u001b[0mf\u001b[0m\u001b[0;34m]\u001b[0m\u001b[0;34m[\u001b[0m\u001b[0;36m0\u001b[0m\u001b[0;34m]\u001b[0m \u001b[0;32mfor\u001b[0m \u001b[0mf\u001b[0m \u001b[0;32min\u001b[0m \u001b[0mtraj_dict\u001b[0m\u001b[0;34m.\u001b[0m\u001b[0mfilename\u001b[0m\u001b[0;34m.\u001b[0m\u001b[0mvalues\u001b[0m\u001b[0;34m]\u001b[0m\u001b[0;34m\u001b[0m\u001b[0;34m\u001b[0m\u001b[0m\n\u001b[1;32m      3\u001b[0m \u001b[0mtraj_dict\u001b[0m\u001b[0;34m.\u001b[0m\u001b[0minsert\u001b[0m\u001b[0;34m(\u001b[0m\u001b[0;36m0\u001b[0m\u001b[0;34m,\u001b[0m\u001b[0;34m'idx'\u001b[0m\u001b[0;34m,\u001b[0m\u001b[0mfile_index\u001b[0m\u001b[0;34m)\u001b[0m\u001b[0;34m\u001b[0m\u001b[0;34m\u001b[0m\u001b[0m\n\u001b[1;32m      4\u001b[0m \u001b[0mtraj_dict\u001b[0m\u001b[0;34m.\u001b[0m\u001b[0msort_values\u001b[0m\u001b[0;34m(\u001b[0m\u001b[0;34m[\u001b[0m\u001b[0;34m'idx'\u001b[0m\u001b[0;34m,\u001b[0m\u001b[0;34m'particle'\u001b[0m\u001b[0;34m,\u001b[0m\u001b[0;34m'frame'\u001b[0m\u001b[0;34m,\u001b[0m\u001b[0;34m'channel'\u001b[0m\u001b[0;34m]\u001b[0m\u001b[0;34m,\u001b[0m\u001b[0minplace\u001b[0m\u001b[0;34m=\u001b[0m\u001b[0;32mTrue\u001b[0m\u001b[0;34m,\u001b[0m\u001b[0mignore_index\u001b[0m\u001b[0;34m=\u001b[0m\u001b[0;32mTrue\u001b[0m\u001b[0;34m)\u001b[0m\u001b[0;34m\u001b[0m\u001b[0;34m\u001b[0m\u001b[0m\n",
      "\u001b[0;32m~/anaconda3/lib/python3.7/site-packages/pandas/core/generic.py\u001b[0m in \u001b[0;36m__getattr__\u001b[0;34m(self, name)\u001b[0m\n\u001b[1;32m   5272\u001b[0m             \u001b[0;32mif\u001b[0m \u001b[0mself\u001b[0m\u001b[0;34m.\u001b[0m\u001b[0m_info_axis\u001b[0m\u001b[0;34m.\u001b[0m\u001b[0m_can_hold_identifiers_and_holds_name\u001b[0m\u001b[0;34m(\u001b[0m\u001b[0mname\u001b[0m\u001b[0;34m)\u001b[0m\u001b[0;34m:\u001b[0m\u001b[0;34m\u001b[0m\u001b[0;34m\u001b[0m\u001b[0m\n\u001b[1;32m   5273\u001b[0m                 \u001b[0;32mreturn\u001b[0m \u001b[0mself\u001b[0m\u001b[0;34m[\u001b[0m\u001b[0mname\u001b[0m\u001b[0;34m]\u001b[0m\u001b[0;34m\u001b[0m\u001b[0;34m\u001b[0m\u001b[0m\n\u001b[0;32m-> 5274\u001b[0;31m             \u001b[0;32mreturn\u001b[0m \u001b[0mobject\u001b[0m\u001b[0;34m.\u001b[0m\u001b[0m__getattribute__\u001b[0m\u001b[0;34m(\u001b[0m\u001b[0mself\u001b[0m\u001b[0;34m,\u001b[0m \u001b[0mname\u001b[0m\u001b[0;34m)\u001b[0m\u001b[0;34m\u001b[0m\u001b[0;34m\u001b[0m\u001b[0m\n\u001b[0m\u001b[1;32m   5275\u001b[0m \u001b[0;34m\u001b[0m\u001b[0m\n\u001b[1;32m   5276\u001b[0m     \u001b[0;32mdef\u001b[0m \u001b[0m__setattr__\u001b[0m\u001b[0;34m(\u001b[0m\u001b[0mself\u001b[0m\u001b[0;34m,\u001b[0m \u001b[0mname\u001b[0m\u001b[0;34m:\u001b[0m \u001b[0mstr\u001b[0m\u001b[0;34m,\u001b[0m \u001b[0mvalue\u001b[0m\u001b[0;34m)\u001b[0m \u001b[0;34m->\u001b[0m \u001b[0;32mNone\u001b[0m\u001b[0;34m:\u001b[0m\u001b[0;34m\u001b[0m\u001b[0;34m\u001b[0m\u001b[0m\n",
      "\u001b[0;31mAttributeError\u001b[0m: 'DataFrame' object has no attribute 'filename'"
     ]
    }
   ],
   "source": [
    "files = sorted(traj_dict.filename.unique())\n",
    "file_index = [[fi for fi, ff in enumerate(files) if ff==f][0] for f in traj_dict.filename.values]\n",
    "traj_dict.insert(0,'idx',file_index)\n",
    "traj_dict.sort_values(['idx','particle','frame','channel'],inplace=True,ignore_index=True)"
   ]
  },
  {
   "cell_type": "code",
   "execution_count": 23,
   "metadata": {},
   "outputs": [
    {
     "data": {
      "text/html": [
       "<div>\n",
       "<style scoped>\n",
       "    .dataframe tbody tr th:only-of-type {\n",
       "        vertical-align: middle;\n",
       "    }\n",
       "\n",
       "    .dataframe tbody tr th {\n",
       "        vertical-align: top;\n",
       "    }\n",
       "\n",
       "    .dataframe thead th {\n",
       "        text-align: right;\n",
       "    }\n",
       "</style>\n",
       "<table border=\"1\" class=\"dataframe\">\n",
       "  <thead>\n",
       "    <tr style=\"text-align: right;\">\n",
       "      <th></th>\n",
       "      <th>Unnamed: 0</th>\n",
       "      <th>Unnamed: 0.1</th>\n",
       "      <th>particle</th>\n",
       "      <th>frame</th>\n",
       "      <th>channel</th>\n",
       "      <th>x</th>\n",
       "      <th>y</th>\n",
       "      <th>z</th>\n",
       "      <th>mean_intensity_dot</th>\n",
       "      <th>max_intensity_dot</th>\n",
       "      <th>dot_size_in_pixels</th>\n",
       "      <th>multimodality_number</th>\n",
       "      <th>ML_class</th>\n",
       "      <th>ML_isReplicated</th>\n",
       "    </tr>\n",
       "  </thead>\n",
       "  <tbody>\n",
       "    <tr>\n",
       "      <th>0</th>\n",
       "      <td>0</td>\n",
       "      <td>0</td>\n",
       "      <td>0</td>\n",
       "      <td>0</td>\n",
       "      <td>0</td>\n",
       "      <td>116.344299</td>\n",
       "      <td>10.866630</td>\n",
       "      <td>4.553462</td>\n",
       "      <td>0.046848</td>\n",
       "      <td>0.252110</td>\n",
       "      <td>343</td>\n",
       "      <td>1</td>\n",
       "      <td>Bad</td>\n",
       "      <td>Unreplicated</td>\n",
       "    </tr>\n",
       "    <tr>\n",
       "      <th>1</th>\n",
       "      <td>1</td>\n",
       "      <td>1</td>\n",
       "      <td>2</td>\n",
       "      <td>0</td>\n",
       "      <td>0</td>\n",
       "      <td>410.962304</td>\n",
       "      <td>473.305476</td>\n",
       "      <td>17.088675</td>\n",
       "      <td>0.058446</td>\n",
       "      <td>0.263172</td>\n",
       "      <td>343</td>\n",
       "      <td>1</td>\n",
       "      <td>NoDot</td>\n",
       "      <td>Replicated</td>\n",
       "    </tr>\n",
       "    <tr>\n",
       "      <th>2</th>\n",
       "      <td>2</td>\n",
       "      <td>2</td>\n",
       "      <td>4</td>\n",
       "      <td>0</td>\n",
       "      <td>0</td>\n",
       "      <td>497.047468</td>\n",
       "      <td>279.028419</td>\n",
       "      <td>13.938990</td>\n",
       "      <td>0.039122</td>\n",
       "      <td>0.140414</td>\n",
       "      <td>343</td>\n",
       "      <td>1</td>\n",
       "      <td>Good</td>\n",
       "      <td>Unreplicated</td>\n",
       "    </tr>\n",
       "    <tr>\n",
       "      <th>3</th>\n",
       "      <td>3</td>\n",
       "      <td>3</td>\n",
       "      <td>8</td>\n",
       "      <td>0</td>\n",
       "      <td>0</td>\n",
       "      <td>445.082759</td>\n",
       "      <td>338.056974</td>\n",
       "      <td>26.221361</td>\n",
       "      <td>0.042668</td>\n",
       "      <td>0.150271</td>\n",
       "      <td>343</td>\n",
       "      <td>1</td>\n",
       "      <td>Good</td>\n",
       "      <td>Unreplicated</td>\n",
       "    </tr>\n",
       "    <tr>\n",
       "      <th>4</th>\n",
       "      <td>4</td>\n",
       "      <td>4</td>\n",
       "      <td>9</td>\n",
       "      <td>0</td>\n",
       "      <td>0</td>\n",
       "      <td>322.939364</td>\n",
       "      <td>106.835478</td>\n",
       "      <td>24.991526</td>\n",
       "      <td>0.039340</td>\n",
       "      <td>0.151202</td>\n",
       "      <td>343</td>\n",
       "      <td>1</td>\n",
       "      <td>Good</td>\n",
       "      <td>Replicated</td>\n",
       "    </tr>\n",
       "    <tr>\n",
       "      <th>...</th>\n",
       "      <td>...</td>\n",
       "      <td>...</td>\n",
       "      <td>...</td>\n",
       "      <td>...</td>\n",
       "      <td>...</td>\n",
       "      <td>...</td>\n",
       "      <td>...</td>\n",
       "      <td>...</td>\n",
       "      <td>...</td>\n",
       "      <td>...</td>\n",
       "      <td>...</td>\n",
       "      <td>...</td>\n",
       "      <td>...</td>\n",
       "      <td>...</td>\n",
       "    </tr>\n",
       "    <tr>\n",
       "      <th>6299</th>\n",
       "      <td>6299</td>\n",
       "      <td>6299</td>\n",
       "      <td>337</td>\n",
       "      <td>364</td>\n",
       "      <td>0</td>\n",
       "      <td>11.746424</td>\n",
       "      <td>56.907849</td>\n",
       "      <td>19.195556</td>\n",
       "      <td>0.030358</td>\n",
       "      <td>0.112673</td>\n",
       "      <td>343</td>\n",
       "      <td>1</td>\n",
       "      <td>Good</td>\n",
       "      <td>Replicated</td>\n",
       "    </tr>\n",
       "    <tr>\n",
       "      <th>6300</th>\n",
       "      <td>6300</td>\n",
       "      <td>6300</td>\n",
       "      <td>248</td>\n",
       "      <td>364</td>\n",
       "      <td>1</td>\n",
       "      <td>142.178974</td>\n",
       "      <td>567.514837</td>\n",
       "      <td>7.282462</td>\n",
       "      <td>0.000923</td>\n",
       "      <td>0.006882</td>\n",
       "      <td>343</td>\n",
       "      <td>1</td>\n",
       "      <td>Good</td>\n",
       "      <td>Unreplicated</td>\n",
       "    </tr>\n",
       "    <tr>\n",
       "      <th>6301</th>\n",
       "      <td>6301</td>\n",
       "      <td>6301</td>\n",
       "      <td>293</td>\n",
       "      <td>364</td>\n",
       "      <td>1</td>\n",
       "      <td>333.671543</td>\n",
       "      <td>238.483359</td>\n",
       "      <td>19.693982</td>\n",
       "      <td>0.001211</td>\n",
       "      <td>0.004822</td>\n",
       "      <td>65</td>\n",
       "      <td>1</td>\n",
       "      <td>Bad</td>\n",
       "      <td>Unreplicated</td>\n",
       "    </tr>\n",
       "    <tr>\n",
       "      <th>6302</th>\n",
       "      <td>6302</td>\n",
       "      <td>6302</td>\n",
       "      <td>300</td>\n",
       "      <td>364</td>\n",
       "      <td>1</td>\n",
       "      <td>221.195980</td>\n",
       "      <td>277.800953</td>\n",
       "      <td>19.540076</td>\n",
       "      <td>0.000083</td>\n",
       "      <td>0.002304</td>\n",
       "      <td>203</td>\n",
       "      <td>1</td>\n",
       "      <td>Bad</td>\n",
       "      <td>Unreplicated</td>\n",
       "    </tr>\n",
       "    <tr>\n",
       "      <th>6303</th>\n",
       "      <td>6303</td>\n",
       "      <td>6303</td>\n",
       "      <td>337</td>\n",
       "      <td>364</td>\n",
       "      <td>1</td>\n",
       "      <td>8.338620</td>\n",
       "      <td>62.427396</td>\n",
       "      <td>20.877783</td>\n",
       "      <td>0.002486</td>\n",
       "      <td>0.007782</td>\n",
       "      <td>203</td>\n",
       "      <td>1</td>\n",
       "      <td>Good</td>\n",
       "      <td>Replicated</td>\n",
       "    </tr>\n",
       "  </tbody>\n",
       "</table>\n",
       "<p>6304 rows × 14 columns</p>\n",
       "</div>"
      ],
      "text/plain": [
       "      Unnamed: 0  Unnamed: 0.1  particle  frame  channel           x  \\\n",
       "0              0             0         0      0        0  116.344299   \n",
       "1              1             1         2      0        0  410.962304   \n",
       "2              2             2         4      0        0  497.047468   \n",
       "3              3             3         8      0        0  445.082759   \n",
       "4              4             4         9      0        0  322.939364   \n",
       "...          ...           ...       ...    ...      ...         ...   \n",
       "6299        6299          6299       337    364        0   11.746424   \n",
       "6300        6300          6300       248    364        1  142.178974   \n",
       "6301        6301          6301       293    364        1  333.671543   \n",
       "6302        6302          6302       300    364        1  221.195980   \n",
       "6303        6303          6303       337    364        1    8.338620   \n",
       "\n",
       "               y          z  mean_intensity_dot  max_intensity_dot  \\\n",
       "0      10.866630   4.553462            0.046848           0.252110   \n",
       "1     473.305476  17.088675            0.058446           0.263172   \n",
       "2     279.028419  13.938990            0.039122           0.140414   \n",
       "3     338.056974  26.221361            0.042668           0.150271   \n",
       "4     106.835478  24.991526            0.039340           0.151202   \n",
       "...          ...        ...                 ...                ...   \n",
       "6299   56.907849  19.195556            0.030358           0.112673   \n",
       "6300  567.514837   7.282462            0.000923           0.006882   \n",
       "6301  238.483359  19.693982            0.001211           0.004822   \n",
       "6302  277.800953  19.540076            0.000083           0.002304   \n",
       "6303   62.427396  20.877783            0.002486           0.007782   \n",
       "\n",
       "      dot_size_in_pixels  multimodality_number ML_class ML_isReplicated  \n",
       "0                    343                     1      Bad    Unreplicated  \n",
       "1                    343                     1    NoDot      Replicated  \n",
       "2                    343                     1     Good    Unreplicated  \n",
       "3                    343                     1     Good    Unreplicated  \n",
       "4                    343                     1     Good      Replicated  \n",
       "...                  ...                   ...      ...             ...  \n",
       "6299                 343                     1     Good      Replicated  \n",
       "6300                 343                     1     Good    Unreplicated  \n",
       "6301                  65                     1      Bad    Unreplicated  \n",
       "6302                 203                     1      Bad    Unreplicated  \n",
       "6303                 203                     1     Good      Replicated  \n",
       "\n",
       "[6304 rows x 14 columns]"
      ]
     },
     "execution_count": 23,
     "metadata": {},
     "output_type": "execute_result"
    }
   ],
   "source": [
    "traj_dict"
   ]
  },
  {
   "cell_type": "markdown",
   "metadata": {},
   "source": [
    "## Make ML trajectories sheet"
   ]
  },
  {
   "cell_type": "code",
   "execution_count": 54,
   "metadata": {},
   "outputs": [],
   "source": [
    "group = 'WAPL_4_hr'#'CTCF_0_hr'\n",
    "group = 'WAPL_0_hr'\n",
    "traj_files = [os.path.join(f'../results/{group}/',f) for f in os.listdir(f'../results/{group}/') if 'ML' in f]\n",
    "\n",
    "traj_df_list = []\n",
    "for fi, file in enumerate(sorted(traj_files)):\n",
    "    \n",
    "    traj_dict = pd.read_csv(file)\n",
    "    traj_dict.insert(0,'filename',[file.split('/')[-1].split('.tracks')[0]]*len(traj_dict))\n",
    "    traj_dict.insert(0,'idx',fi)\n",
    "    traj_dict.sort_values(['idx','particle','frame','channel'],inplace=True,ignore_index=True)\n",
    "    \n",
    "    traj_df_list.append(traj_dict)\n",
    "\n",
    "traj_df = pd.concat(traj_df_list)\n",
    "traj_df.to_csv(f'ML_trajectories_{group}_2021_06_08.csv')\n",
    "    "
   ]
  },
  {
   "cell_type": "code",
   "execution_count": 17,
   "metadata": {},
   "outputs": [],
   "source": [
    "# traj_df_list = []\n",
    "# for fi, file in enumerate(sorted(files)):\n",
    "    \n",
    "#     traj_dict = pd.read_csv(file)\n",
    "#     traj_dict.insert(0,'filename',[file.split('/')[-1].split('.tracks')[0]]*len(traj_dict))\n",
    "#     traj_dict.insert(0,'idx',fi)\n",
    "#     traj_dict.sort_values(['idx','particle','frame','channel'],inplace=True,ignore_index=True)\n",
    "    \n",
    "#     traj_df_list.append(traj_dict)\n",
    "\n",
    "# traj_df = pd.concat(traj_df_list)\n",
    "# traj_df.to_csv('ML_trajectories_Rad21_2h_2021_05_21.csv')\n",
    "    "
   ]
  },
  {
   "cell_type": "code",
   "execution_count": 30,
   "metadata": {},
   "outputs": [
    {
     "data": {
      "text/html": [
       "<div>\n",
       "<style scoped>\n",
       "    .dataframe tbody tr th:only-of-type {\n",
       "        vertical-align: middle;\n",
       "    }\n",
       "\n",
       "    .dataframe tbody tr th {\n",
       "        vertical-align: top;\n",
       "    }\n",
       "\n",
       "    .dataframe thead th {\n",
       "        text-align: right;\n",
       "    }\n",
       "</style>\n",
       "<table border=\"1\" class=\"dataframe\">\n",
       "  <thead>\n",
       "    <tr style=\"text-align: right;\">\n",
       "      <th></th>\n",
       "      <th>idx</th>\n",
       "      <th>filename</th>\n",
       "      <th>Unnamed: 0</th>\n",
       "      <th>Unnamed: 0.1</th>\n",
       "      <th>particle</th>\n",
       "      <th>frame</th>\n",
       "      <th>channel</th>\n",
       "      <th>x</th>\n",
       "      <th>y</th>\n",
       "      <th>z</th>\n",
       "      <th>mean_intensity_dot</th>\n",
       "      <th>max_intensity_dot</th>\n",
       "      <th>dot_size_in_pixels</th>\n",
       "      <th>multimodality_number</th>\n",
       "      <th>ML_class</th>\n",
       "      <th>ML_isReplicated</th>\n",
       "    </tr>\n",
       "  </thead>\n",
       "  <tbody>\n",
       "    <tr>\n",
       "      <th>0</th>\n",
       "      <td>0</td>\n",
       "      <td>2020_10_21_Fbn2_F1Rad21M_twohoursIAA_488nm_0p5...</td>\n",
       "      <td>0</td>\n",
       "      <td>0</td>\n",
       "      <td>11</td>\n",
       "      <td>0</td>\n",
       "      <td>0</td>\n",
       "      <td>39.436383</td>\n",
       "      <td>515.111641</td>\n",
       "      <td>26.965239</td>\n",
       "      <td>0.013126</td>\n",
       "      <td>0.047333</td>\n",
       "      <td>245</td>\n",
       "      <td>1</td>\n",
       "      <td>NoDot</td>\n",
       "      <td>Replicated</td>\n",
       "    </tr>\n",
       "    <tr>\n",
       "      <th>1</th>\n",
       "      <td>0</td>\n",
       "      <td>2020_10_21_Fbn2_F1Rad21M_twohoursIAA_488nm_0p5...</td>\n",
       "      <td>12</td>\n",
       "      <td>12</td>\n",
       "      <td>11</td>\n",
       "      <td>1</td>\n",
       "      <td>0</td>\n",
       "      <td>40.014004</td>\n",
       "      <td>514.861069</td>\n",
       "      <td>28.033751</td>\n",
       "      <td>0.014009</td>\n",
       "      <td>0.033738</td>\n",
       "      <td>147</td>\n",
       "      <td>1</td>\n",
       "      <td>Good</td>\n",
       "      <td>Unreplicated</td>\n",
       "    </tr>\n",
       "    <tr>\n",
       "      <th>2</th>\n",
       "      <td>0</td>\n",
       "      <td>2020_10_21_Fbn2_F1Rad21M_twohoursIAA_488nm_0p5...</td>\n",
       "      <td>18</td>\n",
       "      <td>18</td>\n",
       "      <td>11</td>\n",
       "      <td>1</td>\n",
       "      <td>1</td>\n",
       "      <td>39.021877</td>\n",
       "      <td>514.965990</td>\n",
       "      <td>26.968466</td>\n",
       "      <td>0.000325</td>\n",
       "      <td>0.001343</td>\n",
       "      <td>245</td>\n",
       "      <td>1</td>\n",
       "      <td>Good</td>\n",
       "      <td>Unreplicated</td>\n",
       "    </tr>\n",
       "    <tr>\n",
       "      <th>3</th>\n",
       "      <td>0</td>\n",
       "      <td>2020_10_21_Fbn2_F1Rad21M_twohoursIAA_488nm_0p5...</td>\n",
       "      <td>25</td>\n",
       "      <td>25</td>\n",
       "      <td>11</td>\n",
       "      <td>2</td>\n",
       "      <td>0</td>\n",
       "      <td>40.026211</td>\n",
       "      <td>514.031927</td>\n",
       "      <td>27.976967</td>\n",
       "      <td>0.017017</td>\n",
       "      <td>0.042222</td>\n",
       "      <td>147</td>\n",
       "      <td>1</td>\n",
       "      <td>Good</td>\n",
       "      <td>Unreplicated</td>\n",
       "    </tr>\n",
       "    <tr>\n",
       "      <th>4</th>\n",
       "      <td>0</td>\n",
       "      <td>2020_10_21_Fbn2_F1Rad21M_twohoursIAA_488nm_0p5...</td>\n",
       "      <td>31</td>\n",
       "      <td>31</td>\n",
       "      <td>11</td>\n",
       "      <td>2</td>\n",
       "      <td>1</td>\n",
       "      <td>39.718410</td>\n",
       "      <td>514.592372</td>\n",
       "      <td>27.026284</td>\n",
       "      <td>0.000300</td>\n",
       "      <td>0.001251</td>\n",
       "      <td>245</td>\n",
       "      <td>1</td>\n",
       "      <td>Good</td>\n",
       "      <td>Unreplicated</td>\n",
       "    </tr>\n",
       "  </tbody>\n",
       "</table>\n",
       "</div>"
      ],
      "text/plain": [
       "   idx                                           filename  Unnamed: 0  \\\n",
       "0    0  2020_10_21_Fbn2_F1Rad21M_twohoursIAA_488nm_0p5...           0   \n",
       "1    0  2020_10_21_Fbn2_F1Rad21M_twohoursIAA_488nm_0p5...          12   \n",
       "2    0  2020_10_21_Fbn2_F1Rad21M_twohoursIAA_488nm_0p5...          18   \n",
       "3    0  2020_10_21_Fbn2_F1Rad21M_twohoursIAA_488nm_0p5...          25   \n",
       "4    0  2020_10_21_Fbn2_F1Rad21M_twohoursIAA_488nm_0p5...          31   \n",
       "\n",
       "   Unnamed: 0.1  particle  frame  channel          x           y          z  \\\n",
       "0             0        11      0        0  39.436383  515.111641  26.965239   \n",
       "1            12        11      1        0  40.014004  514.861069  28.033751   \n",
       "2            18        11      1        1  39.021877  514.965990  26.968466   \n",
       "3            25        11      2        0  40.026211  514.031927  27.976967   \n",
       "4            31        11      2        1  39.718410  514.592372  27.026284   \n",
       "\n",
       "   mean_intensity_dot  max_intensity_dot  dot_size_in_pixels  \\\n",
       "0            0.013126           0.047333                 245   \n",
       "1            0.014009           0.033738                 147   \n",
       "2            0.000325           0.001343                 245   \n",
       "3            0.017017           0.042222                 147   \n",
       "4            0.000300           0.001251                 245   \n",
       "\n",
       "   multimodality_number ML_class ML_isReplicated  \n",
       "0                     1    NoDot      Replicated  \n",
       "1                     1     Good    Unreplicated  \n",
       "2                     1     Good    Unreplicated  \n",
       "3                     1     Good    Unreplicated  \n",
       "4                     1     Good    Unreplicated  "
      ]
     },
     "execution_count": 30,
     "metadata": {},
     "output_type": "execute_result"
    }
   ],
   "source": [
    "traj_df.head()"
   ]
  },
  {
   "cell_type": "markdown",
   "metadata": {},
   "source": [
    "## Inspect sheets"
   ]
  },
  {
   "cell_type": "code",
   "execution_count": 50,
   "metadata": {},
   "outputs": [
    {
     "data": {
      "text/plain": [
       "['Summary_stats_Rad21_0_hr.csv',\n",
       " 'Summary_stats_WAPL_4_hr.csv',\n",
       " 'Summary_stats_WAPL_6_hr.csv',\n",
       " 'Summary_stats_C36.csv',\n",
       " 'Summary_stats_CTCF_9_hr.csv',\n",
       " 'Summary_stats_Rad21_2_hr.csv',\n",
       " 'Summary_stats_WAPL_0_hr.csv',\n",
       " 'Summary_stats_CTCF_4_hr.csv',\n",
       " 'Summary_stats_CTCF_2_hr.csv',\n",
       " 'Summary_stats_C27.csv',\n",
       " 'Summary_stats_Rad21_8_hr.csv',\n",
       " 'Summary_stats_CTCF_0_hr.csv',\n",
       " 'Summary_stats_CTCF_6_hr.csv',\n",
       " 'Summary_stats_Rad21_4_hr.csv',\n",
       " 'Summary_stats_Rad21_6_hr.csv',\n",
       " 'Summary_stats_C65.csv']"
      ]
     },
     "execution_count": 50,
     "metadata": {},
     "output_type": "execute_result"
    }
   ],
   "source": [
    "folder = '../results/z_summaries/'\n",
    "files = [f for f in os.listdir(folder) if 'Summary' in f]\n",
    "files"
   ]
  },
  {
   "cell_type": "code",
   "execution_count": 51,
   "metadata": {},
   "outputs": [
    {
     "name": "stdout",
     "output_type": "stream",
     "text": [
      "Summary_stats_C27.csv, #Unreplicated = 526\n",
      "Summary_stats_C36.csv, #Unreplicated = 567\n",
      "Summary_stats_C65.csv, #Unreplicated = 223\n",
      "Summary_stats_CTCF_0_hr.csv, #Unreplicated = 197\n",
      "Summary_stats_CTCF_2_hr.csv, #Unreplicated = 239\n",
      "Summary_stats_CTCF_4_hr.csv, #Unreplicated = 228\n",
      "Summary_stats_CTCF_6_hr.csv, #Unreplicated = 2\n",
      "Summary_stats_CTCF_9_hr.csv, #Unreplicated = 13\n",
      "Summary_stats_Rad21_0_hr.csv, #Unreplicated = 426\n",
      "Summary_stats_Rad21_2_hr.csv, #Unreplicated = 703\n",
      "Summary_stats_Rad21_4_hr.csv, #Unreplicated = 263\n",
      "Summary_stats_Rad21_6_hr.csv, #Unreplicated = 38\n",
      "Summary_stats_Rad21_8_hr.csv, #Unreplicated = 27\n",
      "Summary_stats_WAPL_0_hr.csv, #Unreplicated = 197\n",
      "Summary_stats_WAPL_4_hr.csv, #Unreplicated = 263\n",
      "Summary_stats_WAPL_6_hr.csv, #Unreplicated = 214\n"
     ]
    }
   ],
   "source": [
    "for file in sorted(files):\n",
    "    df = pd.read_csv(os.path.join(folder,file))\n",
    "    print(f\"{file}, #Unreplicated = {len(df[df['ML_replicated']==False])}\")\n"
   ]
  },
  {
   "cell_type": "code",
   "execution_count": 25,
   "metadata": {},
   "outputs": [
    {
     "name": "stdout",
     "output_type": "stream",
     "text": [
      "Summary_stats_C27.csv, #Unreplicated = 526\n",
      "Summary_stats_C36.csv, #Unreplicated = 567\n",
      "Summary_stats_C65.csv, #Unreplicated = 223\n",
      "Summary_stats_CTCF_0_hr.csv, #Unreplicated = 197\n",
      "Summary_stats_CTCF_2_hr.csv, #Unreplicated = 239\n",
      "Summary_stats_CTCF_4_hr.csv, #Unreplicated = 228\n",
      "Summary_stats_CTCF_6_hr.csv, #Unreplicated = 2\n",
      "Summary_stats_CTCF_9_hr.csv, #Unreplicated = 13\n",
      "Summary_stats_Rad21_0_hr.csv, #Unreplicated = 426\n",
      "Summary_stats_Rad21_2_hr.csv, #Unreplicated = 703\n",
      "Summary_stats_Rad21_4_hr.csv, #Unreplicated = 263\n",
      "Summary_stats_Rad21_6_hr.csv, #Unreplicated = 38\n",
      "Summary_stats_Rad21_8_hr.csv, #Unreplicated = 27\n",
      "Summary_stats_WAPL_0_hr.csv, #Unreplicated = 164\n",
      "Summary_stats_WAPL_4_hr.csv, #Unreplicated = 192\n",
      "Summary_stats_WAPL_6_hr.csv, #Unreplicated = 194\n"
     ]
    }
   ],
   "source": []
  },
  {
   "cell_type": "code",
   "execution_count": 52,
   "metadata": {},
   "outputs": [
    {
     "name": "stdout",
     "output_type": "stream",
     "text": [
      "Summary_stats_C27.csv, #Unreplicated + Good>Bad = 435\n",
      "Summary_stats_C36.csv, #Unreplicated + Good>Bad = 474\n",
      "Summary_stats_C65.csv, #Unreplicated + Good>Bad = 200\n",
      "Summary_stats_CTCF_0_hr.csv, #Unreplicated + Good>Bad = 163\n",
      "Summary_stats_CTCF_2_hr.csv, #Unreplicated + Good>Bad = 184\n",
      "Summary_stats_CTCF_4_hr.csv, #Unreplicated + Good>Bad = 160\n",
      "Summary_stats_CTCF_6_hr.csv, #Unreplicated + Good>Bad = 2\n",
      "Summary_stats_CTCF_9_hr.csv, #Unreplicated + Good>Bad = 10\n",
      "Summary_stats_Rad21_0_hr.csv, #Unreplicated + Good>Bad = 342\n",
      "Summary_stats_Rad21_2_hr.csv, #Unreplicated + Good>Bad = 498\n",
      "Summary_stats_Rad21_4_hr.csv, #Unreplicated + Good>Bad = 146\n",
      "Summary_stats_Rad21_6_hr.csv, #Unreplicated + Good>Bad = 25\n",
      "Summary_stats_Rad21_8_hr.csv, #Unreplicated + Good>Bad = 15\n",
      "Summary_stats_WAPL_0_hr.csv, #Unreplicated + Good>Bad = 156\n",
      "Summary_stats_WAPL_4_hr.csv, #Unreplicated + Good>Bad = 213\n",
      "Summary_stats_WAPL_6_hr.csv, #Unreplicated + Good>Bad = 162\n"
     ]
    }
   ],
   "source": [
    "for file in sorted(files):\n",
    "    df = pd.read_csv(os.path.join(folder,file))\n",
    "    print(f\"{file}, #Unreplicated + Good>Bad = {len(df[(df['ML_replicated']==False) & (df.NumGood.values> df.NumBad.values)   ])}\")\n"
   ]
  },
  {
   "cell_type": "code",
   "execution_count": 30,
   "metadata": {},
   "outputs": [
    {
     "name": "stdout",
     "output_type": "stream",
     "text": [
      "Summary_stats_C27.csv, #Unreplicated + Good>Bad = 435\n",
      "Summary_stats_C36.csv, #Unreplicated + Good>Bad = 474\n",
      "Summary_stats_C65.csv, #Unreplicated + Good>Bad = 200\n",
      "Summary_stats_CTCF_0_hr.csv, #Unreplicated + Good>Bad = 163\n",
      "Summary_stats_CTCF_2_hr.csv, #Unreplicated + Good>Bad = 184\n",
      "Summary_stats_CTCF_4_hr.csv, #Unreplicated + Good>Bad = 160\n",
      "Summary_stats_CTCF_6_hr.csv, #Unreplicated + Good>Bad = 2\n",
      "Summary_stats_CTCF_9_hr.csv, #Unreplicated + Good>Bad = 10\n",
      "Summary_stats_Rad21_0_hr.csv, #Unreplicated + Good>Bad = 342\n",
      "Summary_stats_Rad21_2_hr.csv, #Unreplicated + Good>Bad = 498\n",
      "Summary_stats_Rad21_4_hr.csv, #Unreplicated + Good>Bad = 146\n",
      "Summary_stats_Rad21_6_hr.csv, #Unreplicated + Good>Bad = 25\n",
      "Summary_stats_Rad21_8_hr.csv, #Unreplicated + Good>Bad = 15\n",
      "Summary_stats_WAPL_0_hr.csv, #Unreplicated + Good>Bad = 131\n",
      "Summary_stats_WAPL_4_hr.csv, #Unreplicated + Good>Bad = 151\n",
      "Summary_stats_WAPL_6_hr.csv, #Unreplicated + Good>Bad = 146\n"
     ]
    }
   ],
   "source": []
  },
  {
   "cell_type": "code",
   "execution_count": 74,
   "metadata": {},
   "outputs": [
    {
     "name": "stdout",
     "output_type": "stream",
     "text": [
      "Summary_stats_C27.csv, #Unreplicated = 421\n",
      "Summary_stats_C36.csv, #Unreplicated = 567\n",
      "Summary_stats_C65.csv, #Unreplicated = 223\n",
      "Summary_stats_CTCF_0_hr.csv, #Unreplicated = 152\n",
      "Summary_stats_CTCF_2_hr.csv, #Unreplicated = 204\n",
      "Summary_stats_CTCF_4_hr.csv, #Unreplicated = 196\n",
      "Summary_stats_CTCF_6_hr.csv, #Unreplicated = 2\n",
      "Summary_stats_CTCF_9_hr.csv, #Unreplicated = 13\n",
      "Summary_stats_Rad21_0_hr.csv, #Unreplicated = 426\n",
      "Summary_stats_Rad21_2_hr.csv, #Unreplicated = 703\n",
      "Summary_stats_Rad21_4_hr.csv, #Unreplicated = 263\n",
      "Summary_stats_Rad21_6_hr.csv, #Unreplicated = 38\n",
      "Summary_stats_Rad21_8_hr.csv, #Unreplicated = 27\n",
      "Summary_stats_WAPL_0_hr.csv, #Unreplicated = 60\n",
      "Summary_stats_WAPL_4_hr.csv, #Unreplicated = 73\n",
      "Summary_stats_WAPL_6_hr.csv, #Unreplicated = 67\n"
     ]
    }
   ],
   "source": []
  },
  {
   "cell_type": "code",
   "execution_count": 75,
   "metadata": {},
   "outputs": [
    {
     "name": "stdout",
     "output_type": "stream",
     "text": [
      "Summary_stats_C27.csv, #Replicated = 430\n",
      "Summary_stats_C36.csv, #Replicated = 711\n",
      "Summary_stats_C65.csv, #Replicated = 194\n",
      "Summary_stats_CTCF_0_hr.csv, #Replicated = 236\n",
      "Summary_stats_CTCF_2_hr.csv, #Replicated = 496\n",
      "Summary_stats_CTCF_4_hr.csv, #Replicated = 550\n",
      "Summary_stats_CTCF_6_hr.csv, #Replicated = 12\n",
      "Summary_stats_CTCF_9_hr.csv, #Replicated = 7\n",
      "Summary_stats_Rad21_0_hr.csv, #Replicated = 630\n",
      "Summary_stats_Rad21_2_hr.csv, #Replicated = 1560\n",
      "Summary_stats_Rad21_4_hr.csv, #Replicated = 674\n",
      "Summary_stats_Rad21_6_hr.csv, #Replicated = 17\n",
      "Summary_stats_Rad21_8_hr.csv, #Replicated = 28\n",
      "Summary_stats_WAPL_0_hr.csv, #Replicated = 151\n",
      "Summary_stats_WAPL_4_hr.csv, #Replicated = 151\n",
      "Summary_stats_WAPL_6_hr.csv, #Replicated = 172\n"
     ]
    }
   ],
   "source": [
    "for file in sorted(files):\n",
    "    df = pd.read_csv(os.path.join(folder,file))\n",
    "    print(f\"{file}, #Replicated = {len(df[df['ML_replicated']==True])}\")\n"
   ]
  },
  {
   "cell_type": "code",
   "execution_count": 76,
   "metadata": {},
   "outputs": [
    {
     "data": {
      "text/plain": [
       "31"
      ]
     },
     "execution_count": 76,
     "metadata": {},
     "output_type": "execute_result"
    }
   ],
   "source": [
    "len([f for f in os.listdir('../results/CTCF_2_hr/') if 'tracks_ML' in f])"
   ]
  },
  {
   "cell_type": "code",
   "execution_count": 49,
   "metadata": {},
   "outputs": [],
   "source": [
    "from connect_the_dots.io import get_CZI_metadata"
   ]
  },
  {
   "cell_type": "code",
   "execution_count": 53,
   "metadata": {},
   "outputs": [],
   "source": [
    "# os.listdir('/mnt/md0/Hansen Lab Dropbox/DataStorage/Imaging/Fbn2/processed/2021_02_C/2021_02_20_Fbn2_F1Rad21M_488nm_0p5_561nm_0p05_SC8_2X_30z_250nm_780V_365T_20s_noIAA_movie1-01.czi')\n",
    "\n",
    "file = '/mnt/md0/Hansen Lab Dropbox/DataStorage/Imaging/Fbn2/processed/2021_02_C/2021_02_20_Fbn2_F1Rad21M_488nm_0p5_561nm_0p05_SC8_2X_30z_250nm_780V_365T_20s_noIAA_movie1-01.czi'"
   ]
  },
  {
   "cell_type": "code",
   "execution_count": 54,
   "metadata": {},
   "outputs": [],
   "source": [
    "data_info, metadata = get_CZI_metadata(file)"
   ]
  },
  {
   "cell_type": "code",
   "execution_count": 57,
   "metadata": {},
   "outputs": [
    {
     "data": {
      "text/plain": [
       "dict_keys(['Experimenter', 'Instrument', 'Image', 'StructuredAnnotations', '{http://www.w3.org/2001/XMLSchema-instance}schemaLocation'])"
      ]
     },
     "execution_count": 57,
     "metadata": {},
     "output_type": "execute_result"
    }
   ],
   "source": [
    "metadata['OME'].keys()"
   ]
  },
  {
   "cell_type": "code",
   "execution_count": 58,
   "metadata": {},
   "outputs": [
    {
     "data": {
      "text/plain": [
       "dict_keys(['AcquisitionDate', 'ExperimenterRef', 'InstrumentRef', 'ObjectiveSettings', 'Pixels', 'ID', 'Name'])"
      ]
     },
     "execution_count": 58,
     "metadata": {},
     "output_type": "execute_result"
    }
   ],
   "source": [
    "metadata['OME']['Image'].keys()"
   ]
  },
  {
   "cell_type": "code",
   "execution_count": 59,
   "metadata": {},
   "outputs": [
    {
     "data": {
      "text/plain": [
       "dict_keys(['Channel', 'MetadataOnly', 'Plane', 'BigEndian', 'DimensionOrder', 'ID', 'Interleaved', 'PhysicalSizeX', 'PhysicalSizeXUnit', 'PhysicalSizeY', 'PhysicalSizeYUnit', 'PhysicalSizeZ', 'PhysicalSizeZUnit', 'SignificantBits', 'SizeC', 'SizeT', 'SizeX', 'SizeY', 'SizeZ', 'TimeIncrement', 'TimeIncrementUnit', 'Type'])"
      ]
     },
     "execution_count": 59,
     "metadata": {},
     "output_type": "execute_result"
    }
   ],
   "source": [
    "metadata['OME']['Image']['Pixels'].keys()"
   ]
  },
  {
   "cell_type": "code",
   "execution_count": 70,
   "metadata": {},
   "outputs": [
    {
     "data": {
      "text/plain": [
       "0.25"
      ]
     },
     "execution_count": 70,
     "metadata": {},
     "output_type": "execute_result"
    }
   ],
   "source": [
    "metadata['OME']['Image']['Pixels']['PhysicalSizeZ']"
   ]
  },
  {
   "cell_type": "code",
   "execution_count": 71,
   "metadata": {},
   "outputs": [
    {
     "data": {
      "text/plain": [
       "0.08507776712474871"
      ]
     },
     "execution_count": 71,
     "metadata": {},
     "output_type": "execute_result"
    }
   ],
   "source": [
    "metadata['OME']['Image']['Pixels']['PhysicalSizeX']"
   ]
  },
  {
   "cell_type": "code",
   "execution_count": null,
   "metadata": {},
   "outputs": [],
   "source": []
  }
 ],
 "metadata": {
  "kernelspec": {
   "display_name": "Python 3",
   "language": "python",
   "name": "python3"
  },
  "language_info": {
   "codemirror_mode": {
    "name": "ipython",
    "version": 3
   },
   "file_extension": ".py",
   "mimetype": "text/x-python",
   "name": "python",
   "nbconvert_exporter": "python",
   "pygments_lexer": "ipython3",
   "version": "3.7.6"
  }
 },
 "nbformat": 4,
 "nbformat_minor": 4
}
